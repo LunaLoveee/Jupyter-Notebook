{
 "cells": [
  {
   "cell_type": "code",
   "execution_count": 3,
   "id": "23bc293b-96a3-4133-a71b-110aafaaf97d",
   "metadata": {},
   "outputs": [
    {
     "name": "stdout",
     "output_type": "stream",
     "text": [
      "Hello, World!\n",
      "Hello, World!\n"
     ]
    }
   ],
   "source": [
    "print('Hello, World!');\n",
    "print('Hello, World!');"
   ]
  },
  {
   "cell_type": "code",
   "execution_count": 22,
   "id": "212e010d-2e6d-4598-a82a-5a6de9c2cfbc",
   "metadata": {},
   "outputs": [
    {
     "name": "stdout",
     "output_type": "stream",
     "text": [
      "None\n",
      "<class 'NoneType'>\n"
     ]
    }
   ],
   "source": [
    "x = None;\n",
    "print(x);\n",
    "print(type(x));"
   ]
  },
  {
   "cell_type": "code",
   "execution_count": 21,
   "id": "acb8db5c-237e-43d9-ab65-98b5e7f79bef",
   "metadata": {},
   "outputs": [
    {
     "name": "stdin",
     "output_type": "stream",
     "text": [
      " 20.1\n"
     ]
    },
    {
     "name": "stdout",
     "output_type": "stream",
     "text": [
      "<class 'float'>\n"
     ]
    }
   ],
   "source": [
    "x = input();\n",
    "x = float(x);\n",
    "print(type(x));"
   ]
  },
  {
   "cell_type": "code",
   "execution_count": 27,
   "id": "eefa4654-e0bc-496b-b278-2ea4117b9eb8",
   "metadata": {},
   "outputs": [
    {
     "name": "stdin",
     "output_type": "stream",
     "text": [
      "awdfa 1 2\n"
     ]
    },
    {
     "name": "stdout",
     "output_type": "stream",
     "text": [
      "3\n"
     ]
    }
   ],
   "source": [
    "a, b = map(int, input('awdfa').split());\n",
    "print(a + b);"
   ]
  },
  {
   "cell_type": "code",
   "execution_count": 31,
   "id": "d4d29a64-c2ed-4f76-afef-c7d91a43f334",
   "metadata": {},
   "outputs": [
    {
     "name": "stdout",
     "output_type": "stream",
     "text": [
      "50\t100\tNone\n"
     ]
    }
   ],
   "source": [
    "a = 50;\n",
    "b = 100;\n",
    "c = None;\n",
    "print(a, b, c, sep='\\t');"
   ]
  },
  {
   "cell_type": "code",
   "execution_count": 37,
   "id": "aa9d6096-e87a-4d3c-ace3-c9bcf2cd023a",
   "metadata": {},
   "outputs": [
    {
     "name": "stdout",
     "output_type": "stream",
     "text": [
      "Hello, world!\n",
      "None\n",
      "<class 'NoneType'>\n"
     ]
    }
   ],
   "source": [
    "x = print(\"Hello, world!\");\n",
    "print(x);\n",
    "print(type(x));"
   ]
  },
  {
   "cell_type": "code",
   "execution_count": 1,
   "id": "3a548065-67f5-4cec-bd19-c98c8feefd7c",
   "metadata": {},
   "outputs": [
    {
     "name": "stdout",
     "output_type": "stream",
     "text": [
      "(0, 1, 2, 3, 4, 5, 6, 7, 8, 9)\n"
     ]
    }
   ],
   "source": [
    "a = tuple(range(10));\n",
    "print(a);"
   ]
  },
  {
   "cell_type": "code",
   "execution_count": 20,
   "id": "12afadc8-af73-4207-a745-909746cfe6ae",
   "metadata": {},
   "outputs": [
    {
     "name": "stdin",
     "output_type": "stream",
     "text": [
      " 3\n",
      " ((\n",
      " ))\n",
      " (()())((()))\n"
     ]
    },
    {
     "name": "stdout",
     "output_type": "stream",
     "text": [
      "NO\n",
      "NO\n",
      "YES\n"
     ]
    }
   ],
   "source": [
    "#백준 9012번 괄호\n",
    "t = int(input());\n",
    "result = [];\n",
    "for i in range(t):\n",
    "    stack = [];\n",
    "    x = input();\n",
    "    for j in x:\n",
    "        if j == '(':\n",
    "            stack.append(j);\n",
    "        elif not stack:\n",
    "            stack.append(j);\n",
    "            break;\n",
    "        else:\n",
    "            stack.pop();\n",
    "    if not stack:\n",
    "        result.append('YES');\n",
    "    else:\n",
    "        result.append('NO');\n",
    "for i in result:\n",
    "    print(i, end=\"\\n\");"
   ]
  },
  {
   "cell_type": "code",
   "execution_count": null,
   "id": "f3887643-64c4-4cc9-9acb-4a965e4ddd92",
   "metadata": {},
   "outputs": [],
   "source": []
  }
 ],
 "metadata": {
  "kernelspec": {
   "display_name": "Python 3 (ipykernel)",
   "language": "python",
   "name": "python3"
  },
  "language_info": {
   "codemirror_mode": {
    "name": "ipython",
    "version": 3
   },
   "file_extension": ".py",
   "mimetype": "text/x-python",
   "name": "python",
   "nbconvert_exporter": "python",
   "pygments_lexer": "ipython3",
   "version": "3.12.4"
  }
 },
 "nbformat": 4,
 "nbformat_minor": 5
}
