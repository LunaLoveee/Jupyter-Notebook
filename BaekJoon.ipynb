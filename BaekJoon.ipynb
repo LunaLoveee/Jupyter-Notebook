{
 "cells": [
  {
   "cell_type": "code",
   "execution_count": 14,
   "id": "04721307-b45e-4910-ac15-d3156a5e0049",
   "metadata": {},
   "outputs": [
    {
     "name": "stdin",
     "output_type": "stream",
     "text": [
      " 4\n",
      " a\n",
      " aba\n",
      " abcd\n",
      " abab\n"
     ]
    },
    {
     "name": "stdout",
     "output_type": "stream",
     "text": [
      "2\n"
     ]
    }
   ],
   "source": [
    "#1316\n",
    "def checker(word):\n",
    "    used = [False] * 26  \n",
    "    prev_char = word[0]\n",
    "    used[ord(prev_char) - ord('a')] = True  \n",
    "\n",
    "    for i in range(1, len(word)):\n",
    "        current_char = word[i]\n",
    "        if current_char != prev_char:\n",
    "            if used[ord(current_char) - ord('a')]:\n",
    "                return False\n",
    "            used[ord(current_char) - ord('a')] = True\n",
    "            prev_char = current_char\n",
    "\n",
    "    return True\n",
    "\n",
    "count = 0\n",
    "N = int(input())\n",
    "for _ in range(N):\n",
    "    word = input()\n",
    "    if checker(word):\n",
    "        count += 1\n",
    "\n",
    "print(count)\n"
   ]
  },
  {
   "cell_type": "code",
   "execution_count": 1,
   "id": "9f0f57bf-9811-437f-b2e9-0af7009af62f",
   "metadata": {},
   "outputs": [
    {
     "name": "stdout",
     "output_type": "stream",
     "text": [
      "False\n",
      "False\n",
      "False\n",
      "False\n",
      "False\n",
      "False\n",
      "False\n",
      "False\n",
      "False\n",
      "False\n",
      "False\n",
      "False\n",
      "False\n",
      "False\n",
      "False\n",
      "False\n",
      "False\n",
      "False\n",
      "False\n",
      "False\n",
      "False\n",
      "False\n",
      "False\n",
      "False\n",
      "False\n",
      "False\n"
     ]
    }
   ],
   "source": [
    "list = [False] * 26;\n",
    "for i in list:\n",
    "    print(i);"
   ]
  },
  {
   "cell_type": "code",
   "execution_count": 6,
   "id": "be3c9255-fba5-4c48-84bb-45f4926244d8",
   "metadata": {},
   "outputs": [
    {
     "name": "stdin",
     "output_type": "stream",
     "text": [
      " 11\n",
      " 1\n",
      " 1\n",
      " 1\n"
     ]
    },
    {
     "name": "stdout",
     "output_type": "stream",
     "text": [
      "1 "
     ]
    }
   ],
   "source": [
    "#10815\n",
    "N = int(input())\n",
    "set1 = set(map(int, input().split()))\n",
    "\n",
    "M = int(input())\n",
    "temp_list = list(map(int, input().split()))\n",
    "\n",
    "result = []\n",
    "for x in temp_list:\n",
    "    if x in set1:\n",
    "        result.append(1)\n",
    "    else:\n",
    "        result.append(0)\n",
    "for i in result:\n",
    "    print(i, end=\" \");\n"
   ]
  },
  {
   "cell_type": "code",
   "execution_count": null,
   "id": "dbd6a5cf-9bfb-431d-8391-cf5c5336feae",
   "metadata": {},
   "outputs": [],
   "source": [
    "import sys\n",
    "\n",
    "n = int(sys.stdin.readline())\n",
    "dic = {}\n",
    "\n",
    "for i in range(n):\n",
    "    name, status = map(str, sys.stdin.readline().split())\n",
    "\n",
    "    if dic.get(name) == 'enter':\n",
    "        del dic[name]\n",
    "\n",
    "    else:\n",
    "        dic[name] = status\n",
    "\n",
    "sorted_dic = sorted(dic.items(), reverse=True)\n",
    "for i in range(len(sorted_dic)):\n",
    "    print(sorted_dic[i][0])"
   ]
  },
  {
   "cell_type": "code",
   "execution_count": 5,
   "id": "1c2c5ae9-7f54-412b-ab0b-183ca690205d",
   "metadata": {},
   "outputs": [
    {
     "name": "stdin",
     "output_type": "stream",
     "text": [
      " 4\n",
      " Baha enter\n",
      " Askar enter\n",
      " Baha leave\n",
      " Artem enter\n"
     ]
    },
    {
     "name": "stdout",
     "output_type": "stream",
     "text": [
      "Askar\n",
      "Artem\n"
     ]
    }
   ],
   "source": [
    "#7785\n",
    "x = int(input());\n",
    "\n",
    "log = set();\n",
    "\n",
    "for i in range(x):\n",
    "    x, y = input().split();\n",
    "    if y == \"enter\":\n",
    "        log.add(x);\n",
    "    elif y == \"leave\":\n",
    "        log.remove(x);\n",
    "sorted_log = sorted(log, reverse=True);\n",
    "for i in sorted_log:\n",
    "    print(i);"
   ]
  },
  {
   "cell_type": "code",
   "execution_count": 16,
   "id": "dfa37b5f-e861-4ce8-b4c7-070590bdf6b3",
   "metadata": {},
   "outputs": [
    {
     "name": "stdout",
     "output_type": "stream",
     "text": [
      "0\n"
     ]
    }
   ],
   "source": [
    "import sys\n",
    "\n",
    "temp_str = sys.stdin.readline().rstrip();\n",
    "\n",
    "hashSet = set();\n",
    "\n",
    "for i in range(len(temp_str)):\n",
    "    for j in range(i, len(temp_str)):\n",
    "        hashSet.add(temp_str[i:j + 1]);\n",
    "\n",
    "print(len(hashSet));"
   ]
  },
  {
   "cell_type": "code",
   "execution_count": 14,
   "id": "1f4512c6-41ae-4176-891f-1fb4f2756cc0",
   "metadata": {},
   "outputs": [
    {
     "name": "stdout",
     "output_type": "stream",
     "text": [
      "0\n"
     ]
    }
   ],
   "source": [
    "import sys\n",
    "\n",
    "S = sys.stdin.readline().rstrip()\n",
    "\n",
    "cnt = set()\n",
    "\n",
    "for i in range(0, len(S)):\n",
    "    for j in range(i, len(S)):\n",
    "        cnt.add(S[i:j+1])\n",
    "\n",
    "print(len(cnt))"
   ]
  },
  {
   "cell_type": "code",
   "execution_count": 25,
   "id": "5e8aadc6-fd3e-4b78-9abb-084aabb4fcf5",
   "metadata": {},
   "outputs": [
    {
     "ename": "TypeError",
     "evalue": "'str' object is not callable",
     "output_type": "error",
     "traceback": [
      "\u001b[1;31m---------------------------------------------------------------------------\u001b[0m",
      "\u001b[1;31mTypeError\u001b[0m                                 Traceback (most recent call last)",
      "Cell \u001b[1;32mIn[25], line 1\u001b[0m\n\u001b[1;32m----> 1\u001b[0m N \u001b[38;5;241m=\u001b[39m \u001b[38;5;28mint\u001b[39m(\u001b[38;5;28minput\u001b[39m());\n\u001b[0;32m      3\u001b[0m array \u001b[38;5;241m=\u001b[39m \u001b[38;5;28mlist\u001b[39m(\u001b[38;5;28mmap\u001b[39m(\u001b[38;5;28mint\u001b[39m, \u001b[38;5;28minput\u001b[39m()\u001b[38;5;241m.\u001b[39msplit()));\n\u001b[0;32m      4\u001b[0m stack \u001b[38;5;241m=\u001b[39m [];\n",
      "\u001b[1;31mTypeError\u001b[0m: 'str' object is not callable"
     ]
    }
   ],
   "source": [
    "N = int(input());\n",
    "\n",
    "array = list(map(int, input().split()));\n",
    "stack = [];\n",
    "current = 1; # 현재 누구 차례인지?\n",
    "temp = 0;\n",
    "\n",
    "while True:\n",
    "    if current == i:\n",
    "        current += 1;\n",
    "        n -= 1;\n",
    "        continue;\n",
    "    if len(stack) != 0:\n",
    "        temp = stack.pop();\n",
    "        \n",
    "        if current == temp:\n",
    "            current += 1;\n",
    "            n -= 1;\n",
    "        else:\n",
    "            stack.append(temp);\n",
    "            stack.append(i);\n",
    "    else:\n",
    "        stack.append(i);\n",
    "\n",
    "if n == 0:\n",
    "    print(\"Nice\");\n",
    "else:\n",
    "    print(\"Sad\");"
   ]
  },
  {
   "cell_type": "code",
   "execution_count": 1,
   "id": "7afd4aa4-2163-4676-a5c4-e5701b71bf1d",
   "metadata": {},
   "outputs": [
    {
     "name": "stdin",
     "output_type": "stream",
     "text": [
      " 5\n",
      " 5 4 1 3 2\n"
     ]
    },
    {
     "name": "stdout",
     "output_type": "stream",
     "text": [
      "Nice\n"
     ]
    }
   ],
   "source": [
    "#12789\n",
    "N = int(input());\n",
    "\n",
    "array = list(map(int, input().split()));\n",
    "stack = [];\n",
    "current = 1; # 현재 누구 차례인지?\n",
    "temp = 0;\n",
    "\n",
    "for i in array:\n",
    "    if current == i:\n",
    "        current += 1;\n",
    "    else:\n",
    "        while len(stack) != 0 and stack[-1] == current:\n",
    "            current += 1;\n",
    "            stack.pop();\n",
    "        stack.append(i);\n",
    "\n",
    "while len(stack) != 0 and stack[-1] == current:\n",
    "    current += 1;\n",
    "    stack.pop();\n",
    "    \n",
    "if len(stack) == 0:\n",
    "    print(\"Nice\");\n",
    "else:\n",
    "    print(\"Sad\");"
   ]
  },
  {
   "cell_type": "code",
   "execution_count": 12,
   "id": "933049aa-6ead-468a-8fe1-ac69a81bb174",
   "metadata": {},
   "outputs": [
    {
     "name": "stdin",
     "output_type": "stream",
     "text": [
      " 5\n",
      " 3 2 1 -3 -1\n"
     ]
    },
    {
     "ename": "TypeError",
     "evalue": "'<' not supported between instances of 'NoneType' and 'int'",
     "output_type": "error",
     "traceback": [
      "\u001b[1;31m---------------------------------------------------------------------------\u001b[0m",
      "\u001b[1;31mTypeError\u001b[0m                                 Traceback (most recent call last)",
      "Cell \u001b[1;32mIn[12], line 11\u001b[0m\n\u001b[0;32m      8\u001b[0m count \u001b[38;5;241m=\u001b[39m \u001b[38;5;241m1\u001b[39m;\n\u001b[0;32m     10\u001b[0m \u001b[38;5;28;01mfor\u001b[39;00m i \u001b[38;5;129;01min\u001b[39;00m \u001b[38;5;28mrange\u001b[39m(N):\n\u001b[1;32m---> 11\u001b[0m     \u001b[38;5;28;01mif\u001b[39;00m index \u001b[38;5;241m<\u001b[39m \u001b[38;5;241m0\u001b[39m:\n\u001b[0;32m     12\u001b[0m         temp \u001b[38;5;241m=\u001b[39m deq\u001b[38;5;241m.\u001b[39mremove(deq[index]);\n\u001b[0;32m     13\u001b[0m         result\u001b[38;5;241m.\u001b[39mappend(count);\n",
      "\u001b[1;31mTypeError\u001b[0m: '<' not supported between instances of 'NoneType' and 'int'"
     ]
    }
   ],
   "source": [
    "#2346\n",
    "from collections import deque\n",
    "\n",
    "N = int(input());\n",
    "result = [];\n",
    "index = 0;\n",
    "deq = deque(map(int, input().split()));\n",
    "count = 1;\n",
    "\n",
    "for i in range(N):\n",
    "    if index < 0:\n",
    "        temp = deq.remove(deq[index]);\n",
    "        result.append(count);\n",
    "    elif index > len(deq):\n",
    "        temp = deq.remove(index - len(deq) + 1);\n",
    "        result.append(count);\n",
    "    else:\n",
    "        temp = deq.remove(deq[index]);\n",
    "    index = temp;\n",
    "    count += 1;\n",
    "\n",
    "for i in result:\n",
    "    print(result[i], end=\" \");"
   ]
  }
 ],
 "metadata": {
  "kernelspec": {
   "display_name": "Python 3 (ipykernel)",
   "language": "python",
   "name": "python3"
  },
  "language_info": {
   "codemirror_mode": {
    "name": "ipython",
    "version": 3
   },
   "file_extension": ".py",
   "mimetype": "text/x-python",
   "name": "python",
   "nbconvert_exporter": "python",
   "pygments_lexer": "ipython3",
   "version": "3.12.4"
  }
 },
 "nbformat": 4,
 "nbformat_minor": 5
}
