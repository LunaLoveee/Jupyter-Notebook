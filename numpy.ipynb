{
 "cells": [
  {
   "cell_type": "markdown",
   "id": "d43ca501-4433-4350-9963-297275607162",
   "metadata": {},
   "source": [
    "# **Numpy 기초**"
   ]
  },
  {
   "cell_type": "code",
   "execution_count": 1,
   "id": "00099129-4797-4de1-a49c-a678e8de9b87",
   "metadata": {},
   "outputs": [],
   "source": [
    "import numpy as np"
   ]
  },
  {
   "cell_type": "code",
   "execution_count": 5,
   "id": "d35cbc0c-f7c5-4237-907c-e40b60a562ca",
   "metadata": {},
   "outputs": [
    {
     "name": "stdout",
     "output_type": "stream",
     "text": [
      "[1. 4. 5. 8.]\n",
      "<class 'numpy.float64'>\n"
     ]
    }
   ],
   "source": [
    "test_array = np.array([1, 4, 5, 8], float);\n",
    "print(test_array);\n",
    "print(type(test_array[3]));"
   ]
  },
  {
   "cell_type": "code",
   "execution_count": 11,
   "id": "bb2e2435-3cfc-4948-ad2e-cf3269c7b42f",
   "metadata": {},
   "outputs": [
    {
     "name": "stdout",
     "output_type": "stream",
     "text": [
      "[1. 4. 5. 8.]\n",
      "float64\n",
      "(4,)\n"
     ]
    }
   ],
   "source": [
    "test_array = np.array([1, 4, 5, \"8\"], float); # 자동 형변환\n",
    "print(test_array);\n",
    "print(test_array.dtype); # 전체 데이터 타입\n",
    "print(test_array.shape); # (vector, matrix, tensor) 현재는 1차원에 4개의 벡터가 존재함"
   ]
  },
  {
   "cell_type": "code",
   "execution_count": 12,
   "id": "2e3513ba-436b-4dfe-a1b8-e54b89afbbf7",
   "metadata": {},
   "outputs": [
    {
     "name": "stdout",
     "output_type": "stream",
     "text": [
      "(3, 4)\n"
     ]
    }
   ],
   "source": [
    "matrix = [[1, 2, 5, 8], [1, 2, 5, 8], [1, 2, 5, 8]];\n",
    "test_matrix = np.array(matrix, int);\n",
    "print(test_matrix.shape);"
   ]
  },
  {
   "cell_type": "code",
   "execution_count": 14,
   "id": "1e683829-490e-4737-9652-81bc61689997",
   "metadata": {},
   "outputs": [
    {
     "name": "stdout",
     "output_type": "stream",
     "text": [
      "(4, 3, 4)\n",
      "int32\n"
     ]
    }
   ],
   "source": [
    "tensor = [\n",
    "         [[1, 2, 5, 8], [1, 2, 5, 8], [1, 2, 5, 8]],\n",
    "         [[1, 2, 5, 8], [1, 2, 5, 8], [1, 2, 5, 8]],\n",
    "         [[1, 2, 5, 8], [1, 2, 5, 8], [1, 2, 5, 8]],\n",
    "         [[1, 2, 5, 8], [1, 2, 5, 8], [1, 2, 5, 8]]\n",
    "                                                  ];\n",
    "test_tensor = np.array(tensor, int);\n",
    "print(test_tensor.shape);\n",
    "print(test_tensor.dtype);"
   ]
  },
  {
   "cell_type": "code",
   "execution_count": 18,
   "id": "498bbbf6-4244-4a7d-ae8c-5a2fca2590f1",
   "metadata": {},
   "outputs": [
    {
     "name": "stdout",
     "output_type": "stream",
     "text": [
      "3\n",
      "2\n"
     ]
    }
   ],
   "source": [
    "print(np.array(test_tensor, int).ndim); #dimension\n",
    "print(np.array(test_matrix, int).ndim);"
   ]
  },
  {
   "cell_type": "code",
   "execution_count": 20,
   "id": "eff031b3-028b-4cc5-a8e1-98b093bc896e",
   "metadata": {},
   "outputs": [
    {
     "name": "stdout",
     "output_type": "stream",
     "text": [
      "24\n"
     ]
    }
   ],
   "source": [
    "print(np.array([[1, 2, 3], [4.5, \"5\", \"6\"]], dtype=np.float32).nbytes); #nbytes - 크기 반환"
   ]
  },
  {
   "cell_type": "markdown",
   "id": "e0e612d5-0095-4150-8bdf-b58b84253168",
   "metadata": {},
   "source": [
    "# **Shape Handling**"
   ]
  },
  {
   "cell_type": "markdown",
   "id": "b041ef4a-58fb-490d-8e31-8280cb28b5ab",
   "metadata": {},
   "source": [
    "##### *flatten : 다차원 array를 1차원 array로 변환*\n",
    "##### *reshape(vector, matrix, tensor)*"
   ]
  },
  {
   "cell_type": "code",
   "execution_count": 38,
   "id": "93d47677-4743-419c-9401-e2f97a937c06",
   "metadata": {},
   "outputs": [
    {
     "data": {
      "text/plain": [
       "(2, 4)"
      ]
     },
     "execution_count": 38,
     "metadata": {},
     "output_type": "execute_result"
    }
   ],
   "source": [
    "test_matrix = [[1,2,3,4], [1,2,5,8]] # array의 size가 같다면 다차원으로 변형이 가능하다.\n",
    "np.array(test_matrix).shape"
   ]
  },
  {
   "cell_type": "code",
   "execution_count": 24,
   "id": "a4b2eff8-6c04-4326-9048-0cdb8185f97f",
   "metadata": {},
   "outputs": [
    {
     "name": "stdout",
     "output_type": "stream",
     "text": [
      "(8,)\n"
     ]
    }
   ],
   "source": [
    "print(np.array(test_matrix).reshape(8,).shape);"
   ]
  },
  {
   "cell_type": "code",
   "execution_count": 29,
   "id": "784af0d0-ad48-4fd4-b9bd-9e7a563c283c",
   "metadata": {},
   "outputs": [],
   "source": [
    "np.array(test_matrix).reshape(8,);"
   ]
  },
  {
   "cell_type": "code",
   "execution_count": 37,
   "id": "96067cd9-0d0f-493b-b4bd-5be38910f74a",
   "metadata": {},
   "outputs": [
    {
     "name": "stdout",
     "output_type": "stream",
     "text": [
      "[[1 2]\n",
      " [3 4]\n",
      " [1 2]\n",
      " [5 8]]\n"
     ]
    }
   ],
   "source": [
    "print(np.array(test_matrix).reshape(-1, 2)); # -1 : size기반으로 row개수 선정\n",
    "# 크기가 같지 않으면 value error"
   ]
  },
  {
   "cell_type": "code",
   "execution_count": 33,
   "id": "027554e8-041f-4d68-bfee-d432aee827e0",
   "metadata": {},
   "outputs": [
    {
     "name": "stdout",
     "output_type": "stream",
     "text": [
      "[[[1 2]\n",
      "  [3 4]]\n",
      "\n",
      " [[1 2]\n",
      "  [5 8]]]\n"
     ]
    }
   ],
   "source": [
    "print(np.array(test_matrix).reshape(2, 2, 2));"
   ]
  },
  {
   "cell_type": "code",
   "execution_count": 36,
   "id": "f974468d-9a1e-4cb7-8f4a-0337352f4fb4",
   "metadata": {},
   "outputs": [
    {
     "name": "stdout",
     "output_type": "stream",
     "text": [
      "(2, 2, 2)\n"
     ]
    }
   ],
   "source": [
    "print(np.array(test_matrix).reshape(2, 2, 2).shape);"
   ]
  },
  {
   "cell_type": "code",
   "execution_count": 40,
   "id": "737fa966-3bff-48e4-b7e2-449fb1381893",
   "metadata": {},
   "outputs": [
    {
     "name": "stdout",
     "output_type": "stream",
     "text": [
      "[1 2 3 4 1 2 5 8 1 2 3 4 1 2 5 8]\n"
     ]
    }
   ],
   "source": [
    "test_matrix = [[[1,2,3,4], [1,2,5,8]], [[1,2,3,4], [1,2,5,8]]];\n",
    "print(np.array(test_matrix).flatten());"
   ]
  },
  {
   "cell_type": "markdown",
   "id": "98340601-0642-43fc-b209-df8ca0f5b2e6",
   "metadata": {},
   "source": [
    "# **Indexing & slicing**"
   ]
  },
  {
   "cell_type": "markdown",
   "id": "3389bef1-d617-47e1-a607-d7ba48dc8d7b",
   "metadata": {},
   "source": [
    "##### *index는 matrix와 같이(다른 언어의 배열) 접근 & 수정 가능*"
   ]
  },
  {
   "cell_type": "code",
   "execution_count": 42,
   "id": "aa5f215f-e795-4920-b6ff-89f95b42d438",
   "metadata": {},
   "outputs": [
    {
     "name": "stdout",
     "output_type": "stream",
     "text": [
      "[[1 2 3]\n",
      " [4 5 6]]\n",
      "1\n"
     ]
    }
   ],
   "source": [
    "a = np.array([[1,2,3],[4.5,5,6]], int);\n",
    "print(a);\n",
    "print(a[0][0]);"
   ]
  },
  {
   "cell_type": "code",
   "execution_count": 43,
   "id": "2f118477-5845-46ef-8410-2137593713ae",
   "metadata": {},
   "outputs": [
    {
     "name": "stdout",
     "output_type": "stream",
     "text": [
      "[[10  2  3]\n",
      " [ 4  5  6]]\n"
     ]
    }
   ],
   "source": [
    "a[0][0] = 10;\n",
    "print(a);"
   ]
  },
  {
   "cell_type": "code",
   "execution_count": 49,
   "id": "af1a0338-7962-4d17-b9d2-10e8753a416d",
   "metadata": {},
   "outputs": [
    {
     "name": "stdout",
     "output_type": "stream",
     "text": [
      "[[ 3  4  5]\n",
      " [ 8  9 10]]\n",
      "[7 8]\n",
      "[[ 6  7  8  9 10]]\n",
      "[[ 1  2  3  4  5]\n",
      " [ 6  7  8  9 10]]\n"
     ]
    }
   ],
   "source": [
    "a = np.array([[1,2,3,4,5], [6,7,8,9,10]], int);\n",
    "print(a[:,2:]);\n",
    "print(a[1,1:3]);\n",
    "print(a[1:3]);\n",
    "print(a);\n",
    "# List와 달리 행과 열을 나눠서 slicing이 가능함\n",
    "# Matrix의 부분 집합을 추출할 때 사용함"
   ]
  },
  {
   "cell_type": "markdown",
   "id": "da9cb719-cfc0-410e-b7c0-d15f2060ca74",
   "metadata": {},
   "source": [
    "# **Createion functions**\n",
    "##### arange : array의 범위를 지정하여, 값의 list를 생성"
   ]
  },
  {
   "cell_type": "code",
   "execution_count": 50,
   "id": "e7a40857-5169-4b66-8130-08cb5fccf7ed",
   "metadata": {},
   "outputs": [
    {
     "data": {
      "text/plain": [
       "array([ 0,  1,  2,  3,  4,  5,  6,  7,  8,  9, 10, 11, 12, 13, 14, 15, 16,\n",
       "       17, 18, 19, 20, 21, 22, 23, 24, 25, 26, 27, 28, 29])"
      ]
     },
     "execution_count": 50,
     "metadata": {},
     "output_type": "execute_result"
    }
   ],
   "source": [
    "np.arange(30)"
   ]
  },
  {
   "cell_type": "code",
   "execution_count": 54,
   "id": "23d936c5-0fde-411b-aa19-ac7fad160e19",
   "metadata": {},
   "outputs": [
    {
     "data": {
      "text/plain": [
       "[0.0, 0.5, 1.0, 1.5, 2.0, 2.5, 3.0, 3.5, 4.0, 4.5]"
      ]
     },
     "execution_count": 54,
     "metadata": {},
     "output_type": "execute_result"
    }
   ],
   "source": [
    "np.arange(0, 5, 0.5) # floating point도 지정 가능함\n",
    "np.arange(0, 5, 0.5).tolist()"
   ]
  },
  {
   "cell_type": "code",
   "execution_count": 53,
   "id": "48f8c5ef-8c45-4f48-985f-b3ef6418edb5",
   "metadata": {},
   "outputs": [
    {
     "data": {
      "text/plain": [
       "array([[ 0,  1,  2,  3,  4,  5],\n",
       "       [ 6,  7,  8,  9, 10, 11],\n",
       "       [12, 13, 14, 15, 16, 17],\n",
       "       [18, 19, 20, 21, 22, 23],\n",
       "       [24, 25, 26, 27, 28, 29]])"
      ]
     },
     "execution_count": 53,
     "metadata": {},
     "output_type": "execute_result"
    }
   ],
   "source": [
    "np.arange(30).reshape(5, 6)"
   ]
  },
  {
   "cell_type": "code",
   "execution_count": 55,
   "id": "6e38bcc4-2f05-44f3-9b8b-40c3d5305cbd",
   "metadata": {},
   "outputs": [
    {
     "data": {
      "text/plain": [
       "array([[0., 0., 0., 0., 0.],\n",
       "       [0., 0., 0., 0., 0.]])"
      ]
     },
     "execution_count": 55,
     "metadata": {},
     "output_type": "execute_result"
    }
   ],
   "source": [
    "np.zeros((2, 5))"
   ]
  },
  {
   "cell_type": "code",
   "execution_count": 56,
   "id": "827e6dda-14e2-42db-849c-2b582b75274f",
   "metadata": {},
   "outputs": [
    {
     "data": {
      "text/plain": [
       "array([[1., 1., 1., 1., 1.],\n",
       "       [1., 1., 1., 1., 1.]])"
      ]
     },
     "execution_count": 56,
     "metadata": {},
     "output_type": "execute_result"
    }
   ],
   "source": [
    "np.ones((2, 5))"
   ]
  },
  {
   "cell_type": "code",
   "execution_count": 66,
   "id": "c4fc0fdd-9d90-46b6-8a7b-5ee46334419c",
   "metadata": {},
   "outputs": [
    {
     "data": {
      "text/plain": [
       "array([[4.67296746e-307, 1.69121096e-306, 2.33646845e-307,\n",
       "        1.11256817e-306, 1.06811422e-306],\n",
       "       [1.42417221e-306, 1.11260619e-306, 8.90094053e-307,\n",
       "        1.86919378e-306, 1.06809792e-306],\n",
       "       [1.37962456e-306, 1.69111861e-306, 1.78020169e-306,\n",
       "        7.56605918e-307, 2.56761491e-312]])"
      ]
     },
     "execution_count": 66,
     "metadata": {},
     "output_type": "execute_result"
    }
   ],
   "source": [
    "np.empty((3, 5)) # 초기화는 안됨"
   ]
  },
  {
   "cell_type": "code",
   "execution_count": 64,
   "id": "31347396-e3f5-4250-a4c7-eed64e2141a1",
   "metadata": {},
   "outputs": [
    {
     "data": {
      "text/plain": [
       "array([[0, 0, 0, 0, 0, 0],\n",
       "       [0, 0, 0, 0, 0, 0],\n",
       "       [0, 0, 0, 0, 0, 0],\n",
       "       [0, 0, 0, 0, 0, 0],\n",
       "       [0, 0, 0, 0, 0, 0]])"
      ]
     },
     "execution_count": 64,
     "metadata": {},
     "output_type": "execute_result"
    }
   ],
   "source": [
    "test_matrix = np.arange(30).reshape(5, 6)\n",
    "np.ones_like(test_matrix)\n",
    "np.zeros_like(test_matrix)\n",
    "np.empty_like(test_matrix)"
   ]
  },
  {
   "cell_type": "markdown",
   "id": "88700735-5cc4-47a4-aced-600057a93231",
   "metadata": {},
   "source": [
    "### indentity\n",
    "##### 단위 행렬(i 행렬)을 생성함\n",
    "### eye\n",
    "##### 대각선이 1인 행렬, k값의 시작 index 변경 가능\n",
    "### diag\n",
    "##### 대각 행렬의 값을 추출\n",
    "### random sampling\n",
    "##### 데이터 분포에 따른 sampling으로 array를 생성"
   ]
  },
  {
   "cell_type": "code",
   "execution_count": 68,
   "id": "23736c24-70eb-4220-9b52-865289dfa6b0",
   "metadata": {},
   "outputs": [
    {
     "data": {
      "text/plain": [
       "array([[1., 0., 0., 0., 0.],\n",
       "       [0., 1., 0., 0., 0.],\n",
       "       [0., 0., 1., 0., 0.],\n",
       "       [0., 0., 0., 1., 0.],\n",
       "       [0., 0., 0., 0., 1.]])"
      ]
     },
     "execution_count": 68,
     "metadata": {},
     "output_type": "execute_result"
    }
   ],
   "source": [
    "np.identity(n=3, dtype=np.int8)\n",
    "np.identity(5)"
   ]
  },
  {
   "cell_type": "code",
   "execution_count": 72,
   "id": "02e63260-a31d-43b9-b924-932f04f279aa",
   "metadata": {},
   "outputs": [
    {
     "data": {
      "text/plain": [
       "array([[0., 0., 1., 0., 0.],\n",
       "       [0., 0., 0., 1., 0.],\n",
       "       [0., 0., 0., 0., 1.]])"
      ]
     },
     "execution_count": 72,
     "metadata": {},
     "output_type": "execute_result"
    }
   ],
   "source": [
    "np.eye(N=3, M=5, dtype=np.int8)\n",
    "np.eye(3)\n",
    "np.eye(3,5,k=2)"
   ]
  },
  {
   "cell_type": "code",
   "execution_count": 74,
   "id": "d9402b60-92a4-4b31-8c3a-3a323ec1ff8c",
   "metadata": {},
   "outputs": [
    {
     "data": {
      "text/plain": [
       "array([1, 5])"
      ]
     },
     "execution_count": 74,
     "metadata": {},
     "output_type": "execute_result"
    }
   ],
   "source": [
    "matrix = np.arange(9).reshape(3,3)\n",
    "np.diag(matrix)\n",
    "np.diag(matrix, k=1)"
   ]
  },
  {
   "cell_type": "code",
   "execution_count": 78,
   "id": "2712b23f-d400-423a-9ea0-273ee3d9ee95",
   "metadata": {},
   "outputs": [
    {
     "data": {
      "text/plain": [
       "array([[0.13621458, 0.22559549, 0.71822938, 0.11676891, 0.16676821],\n",
       "       [0.86132433, 0.53146452, 0.97013077, 0.26779154, 0.9945366 ]])"
      ]
     },
     "execution_count": 78,
     "metadata": {},
     "output_type": "execute_result"
    }
   ],
   "source": [
    "np.random.uniform(0, 1, 10).reshape(-1, 5) # 0부터 1사이 10개의 데이터를 골라 2x5형태의 array(균등 분포)"
   ]
  },
  {
   "cell_type": "code",
   "execution_count": 77,
   "id": "7126eb41-d1a5-4ecd-b3d9-37c2fefd40e4",
   "metadata": {},
   "outputs": [
    {
     "data": {
      "text/plain": [
       "array([[-0.30556578, -1.33032627, -0.32200649, -0.87768802, -1.67002733],\n",
       "       [ 0.29514628, -2.38640412,  0.62585347, -1.18325685, -0.43314421]])"
      ]
     },
     "execution_count": 77,
     "metadata": {},
     "output_type": "execute_result"
    }
   ],
   "source": [
    "np.random.normal(0, 1, 10).reshape(-1, 5) # 정규분포"
   ]
  },
  {
   "cell_type": "markdown",
   "id": "346fb75d-5fc0-4769-ba86-4c7af717d3bd",
   "metadata": {},
   "source": [
    "# **Operation functions**"
   ]
  },
  {
   "cell_type": "code",
   "execution_count": null,
   "id": "362ecd40-8477-4848-be0f-97677cd58f5a",
   "metadata": {},
   "outputs": [],
   "source": []
  }
 ],
 "metadata": {
  "kernelspec": {
   "display_name": "Python 3 (ipykernel)",
   "language": "python",
   "name": "python3"
  },
  "language_info": {
   "codemirror_mode": {
    "name": "ipython",
    "version": 3
   },
   "file_extension": ".py",
   "mimetype": "text/x-python",
   "name": "python",
   "nbconvert_exporter": "python",
   "pygments_lexer": "ipython3",
   "version": "3.12.4"
  }
 },
 "nbformat": 4,
 "nbformat_minor": 5
}
