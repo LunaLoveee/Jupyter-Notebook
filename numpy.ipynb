{
 "cells": [
  {
   "cell_type": "markdown",
   "id": "d43ca501-4433-4350-9963-297275607162",
   "metadata": {},
   "source": [
    "# **Numpy 기초**"
   ]
  },
  {
   "cell_type": "code",
   "execution_count": 1,
   "id": "00099129-4797-4de1-a49c-a678e8de9b87",
   "metadata": {},
   "outputs": [],
   "source": [
    "import numpy as np"
   ]
  },
  {
   "cell_type": "code",
   "execution_count": 5,
   "id": "d35cbc0c-f7c5-4237-907c-e40b60a562ca",
   "metadata": {},
   "outputs": [
    {
     "name": "stdout",
     "output_type": "stream",
     "text": [
      "[1. 4. 5. 8.]\n",
      "<class 'numpy.float64'>\n"
     ]
    }
   ],
   "source": [
    "test_array = np.array([1, 4, 5, 8], float);\n",
    "print(test_array);\n",
    "print(type(test_array[3]));"
   ]
  },
  {
   "cell_type": "code",
   "execution_count": 11,
   "id": "bb2e2435-3cfc-4948-ad2e-cf3269c7b42f",
   "metadata": {},
   "outputs": [
    {
     "name": "stdout",
     "output_type": "stream",
     "text": [
      "[1. 4. 5. 8.]\n",
      "float64\n",
      "(4,)\n"
     ]
    }
   ],
   "source": [
    "test_array = np.array([1, 4, 5, \"8\"], float); # 자동 형변환\n",
    "print(test_array);\n",
    "print(test_array.dtype); # 전체 데이터 타입\n",
    "print(test_array.shape); # (vector, matrix, tensor) 현재는 1차원에 4개의 벡터가 존재함"
   ]
  },
  {
   "cell_type": "code",
   "execution_count": 12,
   "id": "2e3513ba-436b-4dfe-a1b8-e54b89afbbf7",
   "metadata": {},
   "outputs": [
    {
     "name": "stdout",
     "output_type": "stream",
     "text": [
      "(3, 4)\n"
     ]
    }
   ],
   "source": [
    "matrix = [[1, 2, 5, 8], [1, 2, 5, 8], [1, 2, 5, 8]];\n",
    "test_matrix = np.array(matrix, int);\n",
    "print(test_matrix.shape);"
   ]
  },
  {
   "cell_type": "code",
   "execution_count": 14,
   "id": "1e683829-490e-4737-9652-81bc61689997",
   "metadata": {},
   "outputs": [
    {
     "name": "stdout",
     "output_type": "stream",
     "text": [
      "(4, 3, 4)\n",
      "int32\n"
     ]
    }
   ],
   "source": [
    "tensor = [\n",
    "         [[1, 2, 5, 8], [1, 2, 5, 8], [1, 2, 5, 8]],\n",
    "         [[1, 2, 5, 8], [1, 2, 5, 8], [1, 2, 5, 8]],\n",
    "         [[1, 2, 5, 8], [1, 2, 5, 8], [1, 2, 5, 8]],\n",
    "         [[1, 2, 5, 8], [1, 2, 5, 8], [1, 2, 5, 8]]\n",
    "                                                  ];\n",
    "test_tensor = np.array(tensor, int);\n",
    "print(test_tensor.shape);\n",
    "print(test_tensor.dtype);"
   ]
  },
  {
   "cell_type": "code",
   "execution_count": 18,
   "id": "498bbbf6-4244-4a7d-ae8c-5a2fca2590f1",
   "metadata": {},
   "outputs": [
    {
     "name": "stdout",
     "output_type": "stream",
     "text": [
      "3\n",
      "2\n"
     ]
    }
   ],
   "source": [
    "print(np.array(test_tensor, int).ndim); #dimension\n",
    "print(np.array(test_matrix, int).ndim);"
   ]
  },
  {
   "cell_type": "code",
   "execution_count": 20,
   "id": "eff031b3-028b-4cc5-a8e1-98b093bc896e",
   "metadata": {},
   "outputs": [
    {
     "name": "stdout",
     "output_type": "stream",
     "text": [
      "24\n"
     ]
    }
   ],
   "source": [
    "print(np.array([[1, 2, 3], [4.5, \"5\", \"6\"]], dtype=np.float32).nbytes); #nbytes - 크기 반환"
   ]
  },
  {
   "cell_type": "markdown",
   "id": "e0e612d5-0095-4150-8bdf-b58b84253168",
   "metadata": {},
   "source": [
    "# **Shape Handling**"
   ]
  },
  {
   "cell_type": "markdown",
   "id": "b041ef4a-58fb-490d-8e31-8280cb28b5ab",
   "metadata": {},
   "source": [
    "##### *flatten : 다차원 array를 1차원 array로 변환*\n",
    "##### *reshape(vector, matrix, tensor)*"
   ]
  },
  {
   "cell_type": "code",
   "execution_count": 38,
   "id": "93d47677-4743-419c-9401-e2f97a937c06",
   "metadata": {},
   "outputs": [
    {
     "data": {
      "text/plain": [
       "(2, 4)"
      ]
     },
     "execution_count": 38,
     "metadata": {},
     "output_type": "execute_result"
    }
   ],
   "source": [
    "test_matrix = [[1,2,3,4], [1,2,5,8]] # array의 size가 같다면 다차원으로 변형이 가능하다.\n",
    "np.array(test_matrix).shape"
   ]
  },
  {
   "cell_type": "code",
   "execution_count": 24,
   "id": "a4b2eff8-6c04-4326-9048-0cdb8185f97f",
   "metadata": {},
   "outputs": [
    {
     "name": "stdout",
     "output_type": "stream",
     "text": [
      "(8,)\n"
     ]
    }
   ],
   "source": [
    "print(np.array(test_matrix).reshape(8,).shape);"
   ]
  },
  {
   "cell_type": "code",
   "execution_count": 29,
   "id": "784af0d0-ad48-4fd4-b9bd-9e7a563c283c",
   "metadata": {},
   "outputs": [],
   "source": [
    "np.array(test_matrix).reshape(8,);"
   ]
  },
  {
   "cell_type": "code",
   "execution_count": 37,
   "id": "96067cd9-0d0f-493b-b4bd-5be38910f74a",
   "metadata": {},
   "outputs": [
    {
     "name": "stdout",
     "output_type": "stream",
     "text": [
      "[[1 2]\n",
      " [3 4]\n",
      " [1 2]\n",
      " [5 8]]\n"
     ]
    }
   ],
   "source": [
    "print(np.array(test_matrix).reshape(-1, 2)); # -1 : size기반으로 row개수 선정\n",
    "# 크기가 같지 않으면 value error"
   ]
  },
  {
   "cell_type": "code",
   "execution_count": 33,
   "id": "027554e8-041f-4d68-bfee-d432aee827e0",
   "metadata": {},
   "outputs": [
    {
     "name": "stdout",
     "output_type": "stream",
     "text": [
      "[[[1 2]\n",
      "  [3 4]]\n",
      "\n",
      " [[1 2]\n",
      "  [5 8]]]\n"
     ]
    }
   ],
   "source": [
    "print(np.array(test_matrix).reshape(2, 2, 2));"
   ]
  },
  {
   "cell_type": "code",
   "execution_count": 36,
   "id": "f974468d-9a1e-4cb7-8f4a-0337352f4fb4",
   "metadata": {},
   "outputs": [
    {
     "name": "stdout",
     "output_type": "stream",
     "text": [
      "(2, 2, 2)\n"
     ]
    }
   ],
   "source": [
    "print(np.array(test_matrix).reshape(2, 2, 2).shape);"
   ]
  },
  {
   "cell_type": "code",
   "execution_count": 40,
   "id": "737fa966-3bff-48e4-b7e2-449fb1381893",
   "metadata": {},
   "outputs": [
    {
     "name": "stdout",
     "output_type": "stream",
     "text": [
      "[1 2 3 4 1 2 5 8 1 2 3 4 1 2 5 8]\n"
     ]
    }
   ],
   "source": [
    "test_matrix = [[[1,2,3,4], [1,2,5,8]], [[1,2,3,4], [1,2,5,8]]];\n",
    "print(np.array(test_matrix).flatten());"
   ]
  },
  {
   "cell_type": "markdown",
   "id": "98340601-0642-43fc-b209-df8ca0f5b2e6",
   "metadata": {},
   "source": [
    "# **Indexing & slicing**"
   ]
  },
  {
   "cell_type": "markdown",
   "id": "3389bef1-d617-47e1-a607-d7ba48dc8d7b",
   "metadata": {},
   "source": [
    "##### *index는 matrix와 같이(다른 언어의 배열) 접근 & 수정 가능*"
   ]
  },
  {
   "cell_type": "code",
   "execution_count": 42,
   "id": "aa5f215f-e795-4920-b6ff-89f95b42d438",
   "metadata": {},
   "outputs": [
    {
     "name": "stdout",
     "output_type": "stream",
     "text": [
      "[[1 2 3]\n",
      " [4 5 6]]\n",
      "1\n"
     ]
    }
   ],
   "source": [
    "a = np.array([[1,2,3],[4.5,5,6]], int);\n",
    "print(a);\n",
    "print(a[0][0]);"
   ]
  },
  {
   "cell_type": "code",
   "execution_count": 43,
   "id": "2f118477-5845-46ef-8410-2137593713ae",
   "metadata": {},
   "outputs": [
    {
     "name": "stdout",
     "output_type": "stream",
     "text": [
      "[[10  2  3]\n",
      " [ 4  5  6]]\n"
     ]
    }
   ],
   "source": [
    "a[0][0] = 10;\n",
    "print(a);"
   ]
  },
  {
   "cell_type": "code",
   "execution_count": 49,
   "id": "af1a0338-7962-4d17-b9d2-10e8753a416d",
   "metadata": {},
   "outputs": [
    {
     "name": "stdout",
     "output_type": "stream",
     "text": [
      "[[ 3  4  5]\n",
      " [ 8  9 10]]\n",
      "[7 8]\n",
      "[[ 6  7  8  9 10]]\n",
      "[[ 1  2  3  4  5]\n",
      " [ 6  7  8  9 10]]\n"
     ]
    }
   ],
   "source": [
    "a = np.array([[1,2,3,4,5], [6,7,8,9,10]], int);\n",
    "print(a[:,2:]);\n",
    "print(a[1,1:3]);\n",
    "print(a[1:3]);\n",
    "print(a);\n",
    "# List와 달리 행과 열을 나눠서 slicing이 가능함\n",
    "# Matrix의 부분 집합을 추출할 때 사용함"
   ]
  },
  {
   "cell_type": "markdown",
   "id": "da9cb719-cfc0-410e-b7c0-d15f2060ca74",
   "metadata": {},
   "source": [
    "# **Createion functions**\n",
    "##### arange : array의 범위를 지정하여, 값의 list를 생성"
   ]
  },
  {
   "cell_type": "code",
   "execution_count": 50,
   "id": "e7a40857-5169-4b66-8130-08cb5fccf7ed",
   "metadata": {},
   "outputs": [
    {
     "data": {
      "text/plain": [
       "array([ 0,  1,  2,  3,  4,  5,  6,  7,  8,  9, 10, 11, 12, 13, 14, 15, 16,\n",
       "       17, 18, 19, 20, 21, 22, 23, 24, 25, 26, 27, 28, 29])"
      ]
     },
     "execution_count": 50,
     "metadata": {},
     "output_type": "execute_result"
    }
   ],
   "source": [
    "np.arange(30)"
   ]
  },
  {
   "cell_type": "code",
   "execution_count": 54,
   "id": "23d936c5-0fde-411b-aa19-ac7fad160e19",
   "metadata": {},
   "outputs": [
    {
     "data": {
      "text/plain": [
       "[0.0, 0.5, 1.0, 1.5, 2.0, 2.5, 3.0, 3.5, 4.0, 4.5]"
      ]
     },
     "execution_count": 54,
     "metadata": {},
     "output_type": "execute_result"
    }
   ],
   "source": [
    "np.arange(0, 5, 0.5) # floating point도 지정 가능함\n",
    "np.arange(0, 5, 0.5).tolist()"
   ]
  },
  {
   "cell_type": "code",
   "execution_count": 53,
   "id": "48f8c5ef-8c45-4f48-985f-b3ef6418edb5",
   "metadata": {},
   "outputs": [
    {
     "data": {
      "text/plain": [
       "array([[ 0,  1,  2,  3,  4,  5],\n",
       "       [ 6,  7,  8,  9, 10, 11],\n",
       "       [12, 13, 14, 15, 16, 17],\n",
       "       [18, 19, 20, 21, 22, 23],\n",
       "       [24, 25, 26, 27, 28, 29]])"
      ]
     },
     "execution_count": 53,
     "metadata": {},
     "output_type": "execute_result"
    }
   ],
   "source": [
    "np.arange(30).reshape(5, 6)"
   ]
  },
  {
   "cell_type": "code",
   "execution_count": 55,
   "id": "6e38bcc4-2f05-44f3-9b8b-40c3d5305cbd",
   "metadata": {},
   "outputs": [
    {
     "data": {
      "text/plain": [
       "array([[0., 0., 0., 0., 0.],\n",
       "       [0., 0., 0., 0., 0.]])"
      ]
     },
     "execution_count": 55,
     "metadata": {},
     "output_type": "execute_result"
    }
   ],
   "source": [
    "np.zeros((2, 5))"
   ]
  },
  {
   "cell_type": "code",
   "execution_count": 56,
   "id": "827e6dda-14e2-42db-849c-2b582b75274f",
   "metadata": {},
   "outputs": [
    {
     "data": {
      "text/plain": [
       "array([[1., 1., 1., 1., 1.],\n",
       "       [1., 1., 1., 1., 1.]])"
      ]
     },
     "execution_count": 56,
     "metadata": {},
     "output_type": "execute_result"
    }
   ],
   "source": [
    "np.ones((2, 5))"
   ]
  },
  {
   "cell_type": "code",
   "execution_count": 66,
   "id": "c4fc0fdd-9d90-46b6-8a7b-5ee46334419c",
   "metadata": {},
   "outputs": [
    {
     "data": {
      "text/plain": [
       "array([[4.67296746e-307, 1.69121096e-306, 2.33646845e-307,\n",
       "        1.11256817e-306, 1.06811422e-306],\n",
       "       [1.42417221e-306, 1.11260619e-306, 8.90094053e-307,\n",
       "        1.86919378e-306, 1.06809792e-306],\n",
       "       [1.37962456e-306, 1.69111861e-306, 1.78020169e-306,\n",
       "        7.56605918e-307, 2.56761491e-312]])"
      ]
     },
     "execution_count": 66,
     "metadata": {},
     "output_type": "execute_result"
    }
   ],
   "source": [
    "np.empty((3, 5)) # 초기화는 안됨"
   ]
  },
  {
   "cell_type": "code",
   "execution_count": 64,
   "id": "31347396-e3f5-4250-a4c7-eed64e2141a1",
   "metadata": {},
   "outputs": [
    {
     "data": {
      "text/plain": [
       "array([[0, 0, 0, 0, 0, 0],\n",
       "       [0, 0, 0, 0, 0, 0],\n",
       "       [0, 0, 0, 0, 0, 0],\n",
       "       [0, 0, 0, 0, 0, 0],\n",
       "       [0, 0, 0, 0, 0, 0]])"
      ]
     },
     "execution_count": 64,
     "metadata": {},
     "output_type": "execute_result"
    }
   ],
   "source": [
    "test_matrix = np.arange(30).reshape(5, 6)\n",
    "np.ones_like(test_matrix)\n",
    "np.zeros_like(test_matrix)\n",
    "np.empty_like(test_matrix)"
   ]
  },
  {
   "cell_type": "markdown",
   "id": "88700735-5cc4-47a4-aced-600057a93231",
   "metadata": {},
   "source": [
    "### indentity\n",
    "##### 단위 행렬(i 행렬)을 생성함\n",
    "### eye\n",
    "##### 대각선이 1인 행렬, k값의 시작 index 변경 가능\n",
    "### diag\n",
    "##### 대각 행렬의 값을 추출\n",
    "### random sampling\n",
    "##### 데이터 분포에 따른 sampling으로 array를 생성"
   ]
  },
  {
   "cell_type": "code",
   "execution_count": 68,
   "id": "23736c24-70eb-4220-9b52-865289dfa6b0",
   "metadata": {},
   "outputs": [
    {
     "data": {
      "text/plain": [
       "array([[1., 0., 0., 0., 0.],\n",
       "       [0., 1., 0., 0., 0.],\n",
       "       [0., 0., 1., 0., 0.],\n",
       "       [0., 0., 0., 1., 0.],\n",
       "       [0., 0., 0., 0., 1.]])"
      ]
     },
     "execution_count": 68,
     "metadata": {},
     "output_type": "execute_result"
    }
   ],
   "source": [
    "np.identity(n=3, dtype=np.int8)\n",
    "np.identity(5)"
   ]
  },
  {
   "cell_type": "code",
   "execution_count": 72,
   "id": "02e63260-a31d-43b9-b924-932f04f279aa",
   "metadata": {},
   "outputs": [
    {
     "data": {
      "text/plain": [
       "array([[0., 0., 1., 0., 0.],\n",
       "       [0., 0., 0., 1., 0.],\n",
       "       [0., 0., 0., 0., 1.]])"
      ]
     },
     "execution_count": 72,
     "metadata": {},
     "output_type": "execute_result"
    }
   ],
   "source": [
    "np.eye(N=3, M=5, dtype=np.int8)\n",
    "np.eye(3)\n",
    "np.eye(3,5,k=2)"
   ]
  },
  {
   "cell_type": "code",
   "execution_count": 74,
   "id": "d9402b60-92a4-4b31-8c3a-3a323ec1ff8c",
   "metadata": {},
   "outputs": [
    {
     "data": {
      "text/plain": [
       "array([1, 5])"
      ]
     },
     "execution_count": 74,
     "metadata": {},
     "output_type": "execute_result"
    }
   ],
   "source": [
    "matrix = np.arange(9).reshape(3,3)\n",
    "np.diag(matrix)\n",
    "np.diag(matrix, k=1)"
   ]
  },
  {
   "cell_type": "code",
   "execution_count": 78,
   "id": "2712b23f-d400-423a-9ea0-273ee3d9ee95",
   "metadata": {},
   "outputs": [
    {
     "data": {
      "text/plain": [
       "array([[0.13621458, 0.22559549, 0.71822938, 0.11676891, 0.16676821],\n",
       "       [0.86132433, 0.53146452, 0.97013077, 0.26779154, 0.9945366 ]])"
      ]
     },
     "execution_count": 78,
     "metadata": {},
     "output_type": "execute_result"
    }
   ],
   "source": [
    "np.random.uniform(0, 1, 10).reshape(-1, 5) # 0부터 1사이 10개의 데이터를 골라 2x5형태의 array(균등 분포)"
   ]
  },
  {
   "cell_type": "code",
   "execution_count": 77,
   "id": "7126eb41-d1a5-4ecd-b3d9-37c2fefd40e4",
   "metadata": {},
   "outputs": [
    {
     "data": {
      "text/plain": [
       "array([[-0.30556578, -1.33032627, -0.32200649, -0.87768802, -1.67002733],\n",
       "       [ 0.29514628, -2.38640412,  0.62585347, -1.18325685, -0.43314421]])"
      ]
     },
     "execution_count": 77,
     "metadata": {},
     "output_type": "execute_result"
    }
   ],
   "source": [
    "np.random.normal(0, 1, 10).reshape(-1, 5) # 정규분포"
   ]
  },
  {
   "cell_type": "markdown",
   "id": "346fb75d-5fc0-4769-ba86-4c7af717d3bd",
   "metadata": {},
   "source": [
    "# **Operation functions**\n",
    "###### 2차원 배열에서는 axis=0일 때 위, 아래 axis=1일 때 양옆\n",
    "###### 차원 배열에서는 axis=0일 때 tensor, 위, 아래 순서"
   ]
  },
  {
   "cell_type": "code",
   "execution_count": 79,
   "id": "362ecd40-8477-4848-be0f-97677cd58f5a",
   "metadata": {},
   "outputs": [
    {
     "data": {
      "text/plain": [
       "array([ 1,  2,  3,  4,  5,  6,  7,  8,  9, 10])"
      ]
     },
     "execution_count": 79,
     "metadata": {},
     "output_type": "execute_result"
    }
   ],
   "source": [
    "test_array = np.arange(1, 11)\n",
    "test_array"
   ]
  },
  {
   "cell_type": "code",
   "execution_count": 82,
   "id": "af540d3c-4bc8-4193-b61e-7950fcbb548b",
   "metadata": {},
   "outputs": [
    {
     "data": {
      "text/plain": [
       "55.0"
      ]
     },
     "execution_count": 82,
     "metadata": {},
     "output_type": "execute_result"
    }
   ],
   "source": [
    "test_array.sum(dtype=float)"
   ]
  },
  {
   "cell_type": "code",
   "execution_count": 83,
   "id": "7826077e-ea7d-4a14-9efa-5bdafcb96ee4",
   "metadata": {},
   "outputs": [
    {
     "data": {
      "text/plain": [
       "array([[ 1,  2,  3,  4],\n",
       "       [ 5,  6,  7,  8],\n",
       "       [ 9, 10, 11, 12]])"
      ]
     },
     "execution_count": 83,
     "metadata": {},
     "output_type": "execute_result"
    }
   ],
   "source": [
    "test_array = np.arange(1, 13).reshape(3, 4)\n",
    "test_array"
   ]
  },
  {
   "cell_type": "code",
   "execution_count": 84,
   "id": "8e7f0e1e-f8e5-4c00-a075-fd41e31bcd02",
   "metadata": {},
   "outputs": [
    {
     "data": {
      "text/plain": [
       "(array([10, 26, 42]), array([15, 18, 21, 24]))"
      ]
     },
     "execution_count": 84,
     "metadata": {},
     "output_type": "execute_result"
    }
   ],
   "source": [
    "test_array.sum(axis=1), test_array.sum(axis=0)"
   ]
  },
  {
   "cell_type": "code",
   "execution_count": 85,
   "id": "9cc08ea9-29d6-4f8d-abea-df668387edcb",
   "metadata": {},
   "outputs": [
    {
     "data": {
      "text/plain": [
       "array([[[ 1,  2,  3,  4],\n",
       "        [ 5,  6,  7,  8],\n",
       "        [ 9, 10, 11, 12]],\n",
       "\n",
       "       [[ 1,  2,  3,  4],\n",
       "        [ 5,  6,  7,  8],\n",
       "        [ 9, 10, 11, 12]],\n",
       "\n",
       "       [[ 1,  2,  3,  4],\n",
       "        [ 5,  6,  7,  8],\n",
       "        [ 9, 10, 11, 12]]])"
      ]
     },
     "execution_count": 85,
     "metadata": {},
     "output_type": "execute_result"
    }
   ],
   "source": [
    "third_order_tensor = np.array([test_array, test_array, test_array])\n",
    "third_order_tensor"
   ]
  },
  {
   "cell_type": "code",
   "execution_count": 86,
   "id": "fa345c6e-ffc0-4e39-af3b-f97fe628eaa8",
   "metadata": {},
   "outputs": [
    {
     "data": {
      "text/plain": [
       "array([[ 3,  6,  9, 12],\n",
       "       [15, 18, 21, 24],\n",
       "       [27, 30, 33, 36]])"
      ]
     },
     "execution_count": 86,
     "metadata": {},
     "output_type": "execute_result"
    }
   ],
   "source": [
    "third_order_tensor.sum(axis=0)"
   ]
  },
  {
   "cell_type": "code",
   "execution_count": 87,
   "id": "f392f0d8-cfc0-4a11-bdeb-11662925914b",
   "metadata": {},
   "outputs": [
    {
     "data": {
      "text/plain": [
       "array([[15, 18, 21, 24],\n",
       "       [15, 18, 21, 24],\n",
       "       [15, 18, 21, 24]])"
      ]
     },
     "execution_count": 87,
     "metadata": {},
     "output_type": "execute_result"
    }
   ],
   "source": [
    "third_order_tensor.sum(axis=1)"
   ]
  },
  {
   "cell_type": "code",
   "execution_count": 88,
   "id": "2c247be0-254c-4e23-b49d-aad01fc6ed7b",
   "metadata": {},
   "outputs": [
    {
     "data": {
      "text/plain": [
       "array([[10, 26, 42],\n",
       "       [10, 26, 42],\n",
       "       [10, 26, 42]])"
      ]
     },
     "execution_count": 88,
     "metadata": {},
     "output_type": "execute_result"
    }
   ],
   "source": [
    "third_order_tensor.sum(axis=2)"
   ]
  },
  {
   "cell_type": "code",
   "execution_count": 92,
   "id": "ab56bb36-1e0c-4312-86f7-0265b0a38bd0",
   "metadata": {},
   "outputs": [
    {
     "data": {
      "text/plain": [
       "array([[ 1,  2,  3,  4],\n",
       "       [ 5,  6,  7,  8],\n",
       "       [ 9, 10, 11, 12]])"
      ]
     },
     "execution_count": 92,
     "metadata": {},
     "output_type": "execute_result"
    }
   ],
   "source": [
    "test_array = np.arange(1, 13).reshape(3, 4)\n",
    "test_array"
   ]
  },
  {
   "cell_type": "code",
   "execution_count": 93,
   "id": "876d40bf-9519-44ca-9dd7-c93305a71248",
   "metadata": {},
   "outputs": [
    {
     "data": {
      "text/plain": [
       "array([5., 6., 7., 8.])"
      ]
     },
     "execution_count": 93,
     "metadata": {},
     "output_type": "execute_result"
    }
   ],
   "source": [
    "test_array.mean() # 평균값\n",
    "test_array.mean(axis=0)"
   ]
  },
  {
   "cell_type": "code",
   "execution_count": 96,
   "id": "709380f7-1d73-4133-82fd-07e03ce7478e",
   "metadata": {},
   "outputs": [
    {
     "data": {
      "text/plain": [
       "array([3.26598632, 3.26598632, 3.26598632, 3.26598632])"
      ]
     },
     "execution_count": 96,
     "metadata": {},
     "output_type": "execute_result"
    }
   ],
   "source": [
    "test_array.std()\n",
    "test_array.std(axis=0) # 표준평차 반환"
   ]
  },
  {
   "cell_type": "code",
   "execution_count": 97,
   "id": "5423457d-9333-44bb-8eac-8908e5d10222",
   "metadata": {},
   "outputs": [
    {
     "data": {
      "text/plain": [
       "array([[1.        , 1.41421356, 1.73205081, 2.        ],\n",
       "       [2.23606798, 2.44948974, 2.64575131, 2.82842712],\n",
       "       [3.        , 3.16227766, 3.31662479, 3.46410162]])"
      ]
     },
     "execution_count": 97,
     "metadata": {},
     "output_type": "execute_result"
    }
   ],
   "source": [
    "np.sqrt(test_array)"
   ]
  },
  {
   "cell_type": "code",
   "execution_count": 98,
   "id": "ab8ddf0d-0770-4222-a970-e6e7da80f718",
   "metadata": {},
   "outputs": [
    {
     "data": {
      "text/plain": [
       "array([[2.71828183e+00, 7.38905610e+00, 2.00855369e+01, 5.45981500e+01],\n",
       "       [1.48413159e+02, 4.03428793e+02, 1.09663316e+03, 2.98095799e+03],\n",
       "       [8.10308393e+03, 2.20264658e+04, 5.98741417e+04, 1.62754791e+05]])"
      ]
     },
     "execution_count": 98,
     "metadata": {},
     "output_type": "execute_result"
    }
   ],
   "source": [
    "np.exp(test_array)"
   ]
  },
  {
   "cell_type": "code",
   "execution_count": 103,
   "id": "4e9abf64-6bcd-4519-a1e9-3c21e0b40efe",
   "metadata": {},
   "outputs": [
    {
     "data": {
      "text/plain": [
       "array([[1, 2, 3],\n",
       "       [2, 3, 4]])"
      ]
     },
     "execution_count": 103,
     "metadata": {},
     "output_type": "execute_result"
    }
   ],
   "source": [
    "a = np.arange(1, 4)\n",
    "b = np.arange(2, 5)\n",
    "np.vstack((a, b)) # 가로끼리 붙이기"
   ]
  },
  {
   "cell_type": "code",
   "execution_count": 104,
   "id": "49c5c6e4-6454-48fa-8c3e-31815b8cc73b",
   "metadata": {},
   "outputs": [
    {
     "data": {
      "text/plain": [
       "array([[1, 2],\n",
       "       [2, 3],\n",
       "       [3, 4]])"
      ]
     },
     "execution_count": 104,
     "metadata": {},
     "output_type": "execute_result"
    }
   ],
   "source": [
    "a = np.arange(1, 4).reshape(3, 1)\n",
    "b = np.arange(2, 5).reshape(3, 1)\n",
    "np.hstack((a, b)) #세로끼리 붙이기"
   ]
  },
  {
   "cell_type": "code",
   "execution_count": 106,
   "id": "d42f210e-a668-47b3-873f-2f9ad77c43c3",
   "metadata": {},
   "outputs": [
    {
     "data": {
      "text/plain": [
       "array([[1, 2, 3],\n",
       "       [2, 3, 4]])"
      ]
     },
     "execution_count": 106,
     "metadata": {},
     "output_type": "execute_result"
    }
   ],
   "source": [
    "a = np.arange(1, 4).reshape(1, -1)\n",
    "b = np.arange(2, 5).reshape(1, -1)\n",
    "np.concatenate((a,b), axis=0)"
   ]
  },
  {
   "cell_type": "code",
   "execution_count": 116,
   "id": "a8fbeae3-ad8d-4f39-a579-d71024a3fa7c",
   "metadata": {},
   "outputs": [
    {
     "data": {
      "text/plain": [
       "array([[1, 2, 5],\n",
       "       [3, 4, 6]])"
      ]
     },
     "execution_count": 116,
     "metadata": {},
     "output_type": "execute_result"
    }
   ],
   "source": [
    "a = np.arange(1, 5).reshape(2, 2)\n",
    "#b = np.array([[5, 6]])\n",
    "b = np.arange(5, 7).reshape(1, 2)\n",
    "np.concatenate((a,b.T), axis=1)"
   ]
  },
  {
   "cell_type": "markdown",
   "id": "8b76b5a4-d66b-443f-bce9-c9ac2f759e24",
   "metadata": {},
   "source": [
    "# **Array operations**\n",
    "#### 행렬의 곱을 사용할 때 .dot 연산, transpose할 때 .T 또는 .transpose()"
   ]
  },
  {
   "cell_type": "code",
   "execution_count": 118,
   "id": "56cfe66a-ea67-47ea-af2e-84dbc4a4ef48",
   "metadata": {},
   "outputs": [
    {
     "data": {
      "text/plain": [
       "array([[1, 2, 3],\n",
       "       [4, 5, 6]])"
      ]
     },
     "execution_count": 118,
     "metadata": {},
     "output_type": "execute_result"
    }
   ],
   "source": [
    "test_a = np.arange(1, 7).reshape(2, 3)\n",
    "test_a"
   ]
  },
  {
   "cell_type": "code",
   "execution_count": 119,
   "id": "cabd0fe0-ec19-448a-b6cd-aa759de25379",
   "metadata": {},
   "outputs": [
    {
     "data": {
      "text/plain": [
       "array([[ 2,  4,  6],\n",
       "       [ 8, 10, 12]])"
      ]
     },
     "execution_count": 119,
     "metadata": {},
     "output_type": "execute_result"
    }
   ],
   "source": [
    "test_a + test_a"
   ]
  },
  {
   "cell_type": "code",
   "execution_count": 120,
   "id": "182c95ab-541d-4c2b-a661-4f4faae2101d",
   "metadata": {},
   "outputs": [
    {
     "data": {
      "text/plain": [
       "array([[0, 0, 0],\n",
       "       [0, 0, 0]])"
      ]
     },
     "execution_count": 120,
     "metadata": {},
     "output_type": "execute_result"
    }
   ],
   "source": [
    "test_a - test_a"
   ]
  },
  {
   "cell_type": "code",
   "execution_count": 121,
   "id": "77c2de02-fe7a-4199-94bb-8fb5eb0c79bd",
   "metadata": {},
   "outputs": [
    {
     "data": {
      "text/plain": [
       "array([[ 1,  4,  9],\n",
       "       [16, 25, 36]])"
      ]
     },
     "execution_count": 121,
     "metadata": {},
     "output_type": "execute_result"
    }
   ],
   "source": [
    "test_a * test_a"
   ]
  },
  {
   "cell_type": "code",
   "execution_count": 122,
   "id": "3ae6e9ab-4b52-4f5f-b582-2751b1f9d25d",
   "metadata": {},
   "outputs": [],
   "source": [
    "test_a = np.arange(1, 7).reshape(2, 3)\n",
    "test_b = np.arange(7, 13).reshape(3, 2)"
   ]
  },
  {
   "cell_type": "code",
   "execution_count": 123,
   "id": "75488d9b-e190-4655-8cf9-434e3cd77383",
   "metadata": {},
   "outputs": [
    {
     "data": {
      "text/plain": [
       "array([[1, 2, 3],\n",
       "       [4, 5, 6]])"
      ]
     },
     "execution_count": 123,
     "metadata": {},
     "output_type": "execute_result"
    }
   ],
   "source": [
    "test_a"
   ]
  },
  {
   "cell_type": "code",
   "execution_count": 124,
   "id": "e11e607c-9a82-4248-ad66-567ec679981d",
   "metadata": {},
   "outputs": [
    {
     "data": {
      "text/plain": [
       "array([[ 58,  64],\n",
       "       [139, 154]])"
      ]
     },
     "execution_count": 124,
     "metadata": {},
     "output_type": "execute_result"
    }
   ],
   "source": [
    "test_a.dot(test_b)"
   ]
  },
  {
   "cell_type": "code",
   "execution_count": 125,
   "id": "1a95408b-c967-4f46-9a3f-b93d5f3b07d1",
   "metadata": {},
   "outputs": [
    {
     "data": {
      "text/plain": [
       "array([[17, 22, 27],\n",
       "       [22, 29, 36],\n",
       "       [27, 36, 45]])"
      ]
     },
     "execution_count": 125,
     "metadata": {},
     "output_type": "execute_result"
    }
   ],
   "source": [
    "test_a.T.dot(test_a)"
   ]
  },
  {
   "cell_type": "markdown",
   "id": "0f474a77-034d-4f86-a18d-f4dfddc03530",
   "metadata": {},
   "source": [
    "## Broadcasting\n",
    "###### Shape이 다른 배열 간 연산을 지원하는 기능"
   ]
  },
  {
   "cell_type": "code",
   "execution_count": 130,
   "id": "33ad7eaf-775c-46f2-b750-65564bbd095b",
   "metadata": {},
   "outputs": [],
   "source": [
    "#test_matrix = np.arange(1,7).reshape(2, 3)\n",
    "test_matrix = np.array([[1,2,3],[4,5,6]], float)\n",
    "scalar = 3"
   ]
  },
  {
   "cell_type": "code",
   "execution_count": 131,
   "id": "02afaffb-f731-4008-afee-c755666195e3",
   "metadata": {},
   "outputs": [
    {
     "data": {
      "text/plain": [
       "array([[4., 5., 6.],\n",
       "       [7., 8., 9.]])"
      ]
     },
     "execution_count": 131,
     "metadata": {},
     "output_type": "execute_result"
    }
   ],
   "source": [
    "test_matrix + scalar"
   ]
  },
  {
   "cell_type": "code",
   "execution_count": 132,
   "id": "90238e92-0719-424f-b1a6-c7ccc9aa5ff0",
   "metadata": {},
   "outputs": [
    {
     "data": {
      "text/plain": [
       "array([[-2., -1.,  0.],\n",
       "       [ 1.,  2.,  3.]])"
      ]
     },
     "execution_count": 132,
     "metadata": {},
     "output_type": "execute_result"
    }
   ],
   "source": [
    "test_matrix - scalar"
   ]
  },
  {
   "cell_type": "code",
   "execution_count": 133,
   "id": "dbd53c6e-c18d-4175-b394-834e2ef73ac3",
   "metadata": {},
   "outputs": [
    {
     "data": {
      "text/plain": [
       "array([[ 5., 10., 15.],\n",
       "       [20., 25., 30.]])"
      ]
     },
     "execution_count": 133,
     "metadata": {},
     "output_type": "execute_result"
    }
   ],
   "source": [
    "test_matrix * 5"
   ]
  },
  {
   "cell_type": "code",
   "execution_count": 134,
   "id": "57ad79e7-42a3-416e-91d4-8a52357ae241",
   "metadata": {},
   "outputs": [
    {
     "data": {
      "text/plain": [
       "array([[0.2, 0.4, 0.6],\n",
       "       [0.8, 1. , 1.2]])"
      ]
     },
     "execution_count": 134,
     "metadata": {},
     "output_type": "execute_result"
    }
   ],
   "source": [
    "test_matrix / 5"
   ]
  },
  {
   "cell_type": "code",
   "execution_count": 135,
   "id": "be5c3fb4-d258-4d6a-86fb-dcf5b55f8d03",
   "metadata": {},
   "outputs": [
    {
     "data": {
      "text/plain": [
       "array([[ 4.,  9., 14.],\n",
       "       [19., 24., 29.]])"
      ]
     },
     "execution_count": 135,
     "metadata": {},
     "output_type": "execute_result"
    }
   ],
   "source": [
    "test_matrix // 0.2"
   ]
  },
  {
   "cell_type": "code",
   "execution_count": 136,
   "id": "99505aaf-a355-4b96-9a3c-56d90a3dd64f",
   "metadata": {},
   "outputs": [
    {
     "data": {
      "text/plain": [
       "array([[ 1.,  4.,  9.],\n",
       "       [16., 25., 36.]])"
      ]
     },
     "execution_count": 136,
     "metadata": {},
     "output_type": "execute_result"
    }
   ],
   "source": [
    "test_matrix ** 2"
   ]
  },
  {
   "cell_type": "code",
   "execution_count": 151,
   "id": "2609f522-c3e2-46dd-8a3a-8fa42d34a92e",
   "metadata": {},
   "outputs": [
    {
     "data": {
      "text/plain": [
       "array([[ 1,  2,  3],\n",
       "       [ 4,  5,  6],\n",
       "       [ 7,  8,  9],\n",
       "       [10, 11, 12]])"
      ]
     },
     "execution_count": 151,
     "metadata": {},
     "output_type": "execute_result"
    }
   ],
   "source": [
    "test_matrix = np.arange(1, 13).reshape(4, 3)\n",
    "test_vector = np.arange(10, 50, 10).reshape(-1, 1)\n",
    "test_matrix"
   ]
  },
  {
   "cell_type": "code",
   "execution_count": 152,
   "id": "c9009b5a-5506-4480-9229-c91a254b2692",
   "metadata": {},
   "outputs": [
    {
     "data": {
      "text/plain": [
       "array([[10],\n",
       "       [20],\n",
       "       [30],\n",
       "       [40]])"
      ]
     },
     "execution_count": 152,
     "metadata": {},
     "output_type": "execute_result"
    }
   ],
   "source": [
    "test_vector"
   ]
  },
  {
   "cell_type": "code",
   "execution_count": 139,
   "id": "addbe6ca-ece0-4e55-b115-e28088af9512",
   "metadata": {},
   "outputs": [
    {
     "data": {
      "text/plain": [
       "array([[11, 22, 33],\n",
       "       [14, 25, 36],\n",
       "       [17, 28, 39],\n",
       "       [20, 31, 42]])"
      ]
     },
     "execution_count": 139,
     "metadata": {},
     "output_type": "execute_result"
    }
   ],
   "source": [
    "test_matrix + test_vector"
   ]
  },
  {
   "cell_type": "code",
   "execution_count": 153,
   "id": "e96a3b19-f965-42a1-9329-1747a14e5ec9",
   "metadata": {},
   "outputs": [
    {
     "data": {
      "text/plain": [
       "array([[11, 12, 13],\n",
       "       [24, 25, 26],\n",
       "       [37, 38, 39],\n",
       "       [50, 51, 52]])"
      ]
     },
     "execution_count": 153,
     "metadata": {},
     "output_type": "execute_result"
    }
   ],
   "source": [
    "test_matrix + test_vector"
   ]
  },
  {
   "cell_type": "markdown",
   "id": "dfd6530e-a1bb-477d-ac92-1df90f5326c0",
   "metadata": {},
   "source": [
    "# Comparison"
   ]
  },
  {
   "cell_type": "code",
   "execution_count": 155,
   "id": "4e8141e7-6f1b-43c1-903b-3d25b5ba3b11",
   "metadata": {},
   "outputs": [
    {
     "data": {
      "text/plain": [
       "array([0, 1, 2, 3, 4, 5, 6, 7, 8, 9])"
      ]
     },
     "execution_count": 155,
     "metadata": {},
     "output_type": "execute_result"
    }
   ],
   "source": [
    "a = np.arange(10)\n",
    "a"
   ]
  },
  {
   "cell_type": "code",
   "execution_count": 160,
   "id": "cf619305-fe3e-457c-ada9-409186460742",
   "metadata": {},
   "outputs": [
    {
     "data": {
      "text/plain": [
       "(True, False)"
      ]
     },
     "execution_count": 160,
     "metadata": {},
     "output_type": "execute_result"
    }
   ],
   "source": [
    "np.any(a>5), np.any(a<0) # 하나라도 조건에 충족하면 True"
   ]
  },
  {
   "cell_type": "code",
   "execution_count": 161,
   "id": "e5325ab6-57ab-4ed4-9ffc-f31026e9fcd5",
   "metadata": {},
   "outputs": [
    {
     "data": {
      "text/plain": [
       "(False, True)"
      ]
     },
     "execution_count": 161,
     "metadata": {},
     "output_type": "execute_result"
    }
   ],
   "source": [
    "np.all(a>5), np.all(a<10) # 모두 만족해야 True"
   ]
  },
  {
   "cell_type": "code",
   "execution_count": 163,
   "id": "ec09c85c-ed5a-4399-ab37-8063ec1ee5ac",
   "metadata": {},
   "outputs": [
    {
     "name": "stdout",
     "output_type": "stream",
     "text": [
      "False\n"
     ]
    }
   ],
   "source": [
    "print(np.all(a>5))"
   ]
  },
  {
   "cell_type": "code",
   "execution_count": 164,
   "id": "fee57e4c-c37e-427f-b4d3-29d38159a6ac",
   "metadata": {},
   "outputs": [
    {
     "data": {
      "text/plain": [
       "array([ True, False, False])"
      ]
     },
     "execution_count": 164,
     "metadata": {},
     "output_type": "execute_result"
    }
   ],
   "source": [
    "a = np.array([1,3,0], float)\n",
    "np.logical_and(a > 0, a < 3)"
   ]
  },
  {
   "cell_type": "code",
   "execution_count": 165,
   "id": "dd13ac8e-4fb3-4505-b36c-6138d9a6e8f7",
   "metadata": {},
   "outputs": [
    {
     "data": {
      "text/plain": [
       "array([False,  True, False])"
      ]
     },
     "execution_count": 165,
     "metadata": {},
     "output_type": "execute_result"
    }
   ],
   "source": [
    "b = np.array([True, False, True], bool)\n",
    "np.logical_not(b)"
   ]
  },
  {
   "cell_type": "code",
   "execution_count": 166,
   "id": "03d92418-2b6c-45ac-96d8-c872f42b25ce",
   "metadata": {},
   "outputs": [
    {
     "data": {
      "text/plain": [
       "array([ True,  True,  True])"
      ]
     },
     "execution_count": 166,
     "metadata": {},
     "output_type": "execute_result"
    }
   ],
   "source": [
    "c = np.array([False, True, False], bool)\n",
    "np.logical_or(b, c)"
   ]
  },
  {
   "cell_type": "code",
   "execution_count": 168,
   "id": "57ae6fda-eabb-439b-9afe-c1bb90b87859",
   "metadata": {},
   "outputs": [
    {
     "data": {
      "text/plain": [
       "array([3, 3, 2])"
      ]
     },
     "execution_count": 168,
     "metadata": {},
     "output_type": "execute_result"
    }
   ],
   "source": [
    "np.where(a > 0, 3, 2) # 엑셀에서 if문과 같음(조건, True, False)"
   ]
  },
  {
   "cell_type": "code",
   "execution_count": 171,
   "id": "e679b3f5-f9c4-4cc3-b145-e270c10a9f01",
   "metadata": {},
   "outputs": [
    {
     "data": {
      "text/plain": [
       "(array([6, 7, 8, 9], dtype=int64),)"
      ]
     },
     "execution_count": 171,
     "metadata": {},
     "output_type": "execute_result"
    }
   ],
   "source": [
    "a = np.arange(10)\n",
    "np.where(a>5) # True값을 주지 않으면 인덱스값 반환"
   ]
  },
  {
   "cell_type": "code",
   "execution_count": 172,
   "id": "bc1abc35-4c26-41ef-af40-6c180dc523ea",
   "metadata": {},
   "outputs": [
    {
     "data": {
      "text/plain": [
       "array([False,  True, False])"
      ]
     },
     "execution_count": 172,
     "metadata": {},
     "output_type": "execute_result"
    }
   ],
   "source": [
    "a = np.array([1, np.NaN, np.Inf], float)\n",
    "np.isnan(a)"
   ]
  },
  {
   "cell_type": "code",
   "execution_count": 173,
   "id": "437e1659-f0e6-4172-a133-2630f36be0f5",
   "metadata": {},
   "outputs": [
    {
     "data": {
      "text/plain": [
       "array([ True, False, False])"
      ]
     },
     "execution_count": 173,
     "metadata": {},
     "output_type": "execute_result"
    }
   ],
   "source": [
    "np.isfinite(a)"
   ]
  },
  {
   "cell_type": "code",
   "execution_count": 176,
   "id": "38c759f0-b91e-45c2-ba70-329f96a774e9",
   "metadata": {},
   "outputs": [
    {
     "data": {
      "text/plain": [
       "(5, 0)"
      ]
     },
     "execution_count": 176,
     "metadata": {},
     "output_type": "execute_result"
    }
   ],
   "source": [
    "a = np.array([1,2,4,5,8,78,23,31])\n",
    "np.argmax(a), np.argmin(a)\n",
    "# index값 반환"
   ]
  },
  {
   "cell_type": "code",
   "execution_count": 177,
   "id": "db1b5db0-9fcd-4578-9dd4-6a6503f92d4e",
   "metadata": {},
   "outputs": [
    {
     "data": {
      "text/plain": [
       "(array([3, 1, 1], dtype=int64), array([0, 0, 2, 2], dtype=int64))"
      ]
     },
     "execution_count": 177,
     "metadata": {},
     "output_type": "execute_result"
    }
   ],
   "source": [
    "a = np.array([[1,2,4,7],[9,88,6,45],[9,76,3,4]])\n",
    "np.argmax(a, axis=1), np.argmin(a, axis=0)\n",
    "# index값 반환"
   ]
  },
  {
   "cell_type": "markdown",
   "id": "9416d256-8348-4347-ba91-2411019c32f5",
   "metadata": {},
   "source": [
    "# Boolean & fancy index"
   ]
  },
  {
   "cell_type": "code",
   "execution_count": 182,
   "id": "a9c8bba9-81d4-4053-b1ff-51e11f7cfc47",
   "metadata": {},
   "outputs": [
    {
     "data": {
      "text/plain": [
       "array([[ True,  True,  True,  True, False,  True,  True,  True,  True],\n",
       "       [ True,  True,  True,  True, False,  True,  True,  True,  True],\n",
       "       [ True,  True,  True, False, False,  True,  True,  True,  True],\n",
       "       [ True,  True,  True,  True, False,  True,  True,  True,  True],\n",
       "       [ True,  True,  True,  True, False,  True, False,  True,  True],\n",
       "       [ True,  True,  True,  True, False,  True,  True,  True,  True],\n",
       "       [ True,  True,  True,  True, False,  True,  True,  True,  True],\n",
       "       [ True,  True,  True,  True, False,  True, False,  True,  True],\n",
       "       [ True,  True,  True,  True, False,  True,  True,  True,  True],\n",
       "       [ True,  True,  True, False, False,  True,  True,  True,  True],\n",
       "       [ True,  True,  True,  True, False,  True,  True,  True,  True]])"
      ]
     },
     "execution_count": 182,
     "metadata": {},
     "output_type": "execute_result"
    }
   ],
   "source": [
    "A = np.array([\n",
    "[12, 13, 14, 12, 16, 14, 11, 10, 9],\n",
    "[11, 14, 12, 14, 16, 14, 11, 10, 9],\n",
    "[12, 13, 14, 25, 16, 14, 11, 10, 9],\n",
    "[12, 13, 14, 12, 16, 14, 11, 10, 9],\n",
    "[12, 13, 14, 14, 16, 14, 15, 10, 9],\n",
    "[12, 13, 14, 12, 16, 14, 11, 10, 9],\n",
    "[12, 13, 14, 4, 16, 14, 11, 10, 9],\n",
    "[12, 13, 14, 1, 16, 14, 16, 10, 9],\n",
    "[12, 13, 14, 6, 16, 14, 11, 10, 9],\n",
    "[12, 13, 14, 17, 16, 14, 11, 10, 9],\n",
    "[12, 13, 14, 13, 16, 14, 11, 10, 9]])\n",
    "B = A < 15\n",
    "B"
   ]
  },
  {
   "cell_type": "code",
   "execution_count": 184,
   "id": "10910027-d14d-4c91-a2dd-fece06b693b9",
   "metadata": {},
   "outputs": [
    {
     "data": {
      "text/plain": [
       "array([[1, 1, 1, 1, 0, 1, 1, 1, 1],\n",
       "       [1, 1, 1, 1, 0, 1, 1, 1, 1],\n",
       "       [1, 1, 1, 0, 0, 1, 1, 1, 1],\n",
       "       [1, 1, 1, 1, 0, 1, 1, 1, 1],\n",
       "       [1, 1, 1, 1, 0, 1, 0, 1, 1],\n",
       "       [1, 1, 1, 1, 0, 1, 1, 1, 1],\n",
       "       [1, 1, 1, 1, 0, 1, 1, 1, 1],\n",
       "       [1, 1, 1, 1, 0, 1, 0, 1, 1],\n",
       "       [1, 1, 1, 1, 0, 1, 1, 1, 1],\n",
       "       [1, 1, 1, 0, 0, 1, 1, 1, 1],\n",
       "       [1, 1, 1, 1, 0, 1, 1, 1, 1]])"
      ]
     },
     "execution_count": 184,
     "metadata": {},
     "output_type": "execute_result"
    }
   ],
   "source": [
    "B.astype(int)"
   ]
  },
  {
   "cell_type": "code",
   "execution_count": 189,
   "id": "e0fcb420-4e9c-4fe5-958c-d4acb616da7a",
   "metadata": {},
   "outputs": [
    {
     "data": {
      "text/plain": [
       "array([2., 2., 4., 8., 6., 4.])"
      ]
     },
     "execution_count": 189,
     "metadata": {},
     "output_type": "execute_result"
    }
   ],
   "source": [
    "a = np.array([2,4,6,8], float)\n",
    "b = np.array([0, 0, 1, 3, 2, 1], int) # 반드시 Integer로 선언!\n",
    "a[b]"
   ]
  },
  {
   "cell_type": "code",
   "execution_count": 188,
   "id": "7d860a8c-1888-4db8-9a52-b9e46c8a06af",
   "metadata": {},
   "outputs": [
    {
     "data": {
      "text/plain": [
       "array([2., 2., 4., 8., 6., 4.])"
      ]
     },
     "execution_count": 188,
     "metadata": {},
     "output_type": "execute_result"
    }
   ],
   "source": [
    "a.take(b)"
   ]
  },
  {
   "cell_type": "code",
   "execution_count": 190,
   "id": "7c72214a-b014-4ca0-aaff-979499fb6780",
   "metadata": {},
   "outputs": [
    {
     "data": {
      "text/plain": [
       "array([ 1,  4, 16, 16,  4])"
      ]
     },
     "execution_count": 190,
     "metadata": {},
     "output_type": "execute_result"
    }
   ],
   "source": [
    "a = (np.arange(1,5) * np.arange(1, 5)).reshape(2, 2)\n",
    "b = np.array([0, 0, 1, 1, 0], int)\n",
    "c = np.array([0, 1, 1, 1, 1], int)\n",
    "a[b, c]"
   ]
  },
  {
   "cell_type": "markdown",
   "id": "e0581aed-a4ae-4af8-821a-4facdfd96efc",
   "metadata": {},
   "source": [
    "# Numpy data i/o"
   ]
  },
  {
   "cell_type": "markdown",
   "id": "9318407c-2b0f-455e-b42f-fef32b4c560a",
   "metadata": {},
   "source": [
    "## https://youtu.be/N4KjOIs-2H8?si=CDA2l90HEtKuWCMT"
   ]
  },
  {
   "cell_type": "markdown",
   "id": "2952c27f-ef15-43a1-9735-3cdb8bfe9525",
   "metadata": {},
   "source": [
    " "
   ]
  },
  {
   "cell_type": "markdown",
   "id": "8ada0dfb-90c0-4351-b39f-6cd8e6a307b7",
   "metadata": {},
   "source": [
    "# Numpy ex"
   ]
  },
  {
   "cell_type": "code",
   "execution_count": 2,
   "id": "4d3153b2-aac8-4d8d-9863-de77948c8e84",
   "metadata": {},
   "outputs": [],
   "source": [
    "import numpy as np"
   ]
  },
  {
   "cell_type": "code",
   "execution_count": 3,
   "id": "2de2683f-8909-4e6e-8f5f-38e0b603a40d",
   "metadata": {},
   "outputs": [
    {
     "data": {
      "text/plain": [
       "array([0, 1, 2, 3, 4, 5, 6, 7, 8, 9])"
      ]
     },
     "execution_count": 3,
     "metadata": {},
     "output_type": "execute_result"
    }
   ],
   "source": [
    "np.arange(0, 10)"
   ]
  },
  {
   "cell_type": "code",
   "execution_count": 8,
   "id": "60714dd6-e62a-49bd-82cf-c37a7e205862",
   "metadata": {},
   "outputs": [
    {
     "data": {
      "text/plain": [
       "array([[ True,  True,  True],\n",
       "       [ True,  True,  True],\n",
       "       [ True,  True,  True]])"
      ]
     },
     "execution_count": 8,
     "metadata": {},
     "output_type": "execute_result"
    }
   ],
   "source": [
    "np.ones((3,3), dtype=bool)"
   ]
  },
  {
   "cell_type": "code",
   "execution_count": 9,
   "id": "6cd71624-6dec-4d1a-80e3-df5b55483738",
   "metadata": {},
   "outputs": [
    {
     "data": {
      "text/plain": [
       "(array([1, 3, 5, 7, 9], dtype=int64),)"
      ]
     },
     "execution_count": 9,
     "metadata": {},
     "output_type": "execute_result"
    }
   ],
   "source": [
    "np.where(np.arange(0, 10) % 2 == 1)"
   ]
  },
  {
   "cell_type": "code",
   "execution_count": 17,
   "id": "5d84b4b2-bbca-4e0f-a424-4601501793c1",
   "metadata": {},
   "outputs": [
    {
     "name": "stdout",
     "output_type": "stream",
     "text": [
      "[0 1 2 3 4 5 6 7 8 9]\n"
     ]
    },
    {
     "data": {
      "text/plain": [
       "array([ 0, -1,  2, -1,  4, -1,  6, -1,  8, -1])"
      ]
     },
     "execution_count": 17,
     "metadata": {},
     "output_type": "execute_result"
    }
   ],
   "source": [
    "x = np.arange(0, 10)\n",
    "out = np.where(x % 2 == 1, -1, x)\n",
    "print(x)\n",
    "out"
   ]
  },
  {
   "cell_type": "code",
   "execution_count": 18,
   "id": "5d3b5c7c-8011-410d-bccb-be640763a0ee",
   "metadata": {},
   "outputs": [
    {
     "data": {
      "text/plain": [
       "array([[0, 1, 2, 3, 4],\n",
       "       [5, 6, 7, 8, 9]])"
      ]
     },
     "execution_count": 18,
     "metadata": {},
     "output_type": "execute_result"
    }
   ],
   "source": [
    "np.arange(10).reshape(2, 5)"
   ]
  },
  {
   "cell_type": "code",
   "execution_count": 21,
   "id": "80662596-4cce-4a96-84f6-ec9a84788743",
   "metadata": {},
   "outputs": [
    {
     "data": {
      "text/plain": [
       "array([[0, 1, 2, 3, 4],\n",
       "       [5, 6, 7, 8, 9],\n",
       "       [1, 1, 1, 1, 1],\n",
       "       [1, 1, 1, 1, 1]])"
      ]
     },
     "execution_count": 21,
     "metadata": {},
     "output_type": "execute_result"
    }
   ],
   "source": [
    "a = np.arange(10).reshape(2,-1)\n",
    "b = np.repeat(1, 10).reshape(2,-1)\n",
    "np.vstack([a,b])"
   ]
  },
  {
   "cell_type": "code",
   "execution_count": 22,
   "id": "8518ea61-daee-4428-a9a3-d99c5502defa",
   "metadata": {},
   "outputs": [
    {
     "data": {
      "text/plain": [
       "array([[0, 1, 2, 3, 4, 1, 1, 1, 1, 1],\n",
       "       [5, 6, 7, 8, 9, 1, 1, 1, 1, 1]])"
      ]
     },
     "execution_count": 22,
     "metadata": {},
     "output_type": "execute_result"
    }
   ],
   "source": [
    "np.hstack([a,b])"
   ]
  },
  {
   "cell_type": "code",
   "execution_count": null,
   "id": "e598fa18-8ab8-457f-a900-7c128afd0a6e",
   "metadata": {},
   "outputs": [],
   "source": []
  }
 ],
 "metadata": {
  "kernelspec": {
   "display_name": "Python 3 (ipykernel)",
   "language": "python",
   "name": "python3"
  },
  "language_info": {
   "codemirror_mode": {
    "name": "ipython",
    "version": 3
   },
   "file_extension": ".py",
   "mimetype": "text/x-python",
   "name": "python",
   "nbconvert_exporter": "python",
   "pygments_lexer": "ipython3",
   "version": "3.12.4"
  }
 },
 "nbformat": 4,
 "nbformat_minor": 5
}
